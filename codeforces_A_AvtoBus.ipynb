{
  "nbformat": 4,
  "nbformat_minor": 0,
  "metadata": {
    "colab": {
      "provenance": [],
      "authorship_tag": "ABX9TyPPu8WBaT7ECdXW/hzCjWaJ",
      "include_colab_link": true
    },
    "kernelspec": {
      "name": "python3",
      "display_name": "Python 3"
    },
    "language_info": {
      "name": "python"
    }
  },
  "cells": [
    {
      "cell_type": "markdown",
      "metadata": {
        "id": "view-in-github",
        "colab_type": "text"
      },
      "source": [
        "<a href=\"https://colab.research.google.com/github/farfalan/codeforcesProblemset/blob/main/codeforces_A_AvtoBus.ipynb\" target=\"_parent\"><img src=\"https://colab.research.google.com/assets/colab-badge.svg\" alt=\"Open In Colab\"/></a>"
      ]
    },
    {
      "cell_type": "code",
      "execution_count": 112,
      "metadata": {
        "colab": {
          "base_uri": "https://localhost:8080/"
        },
        "id": "-2UMEeIkUtXy",
        "outputId": "4fd76993-15e1-4996-a8d8-b0113742c991"
      },
      "outputs": [
        {
          "output_type": "stream",
          "name": "stdout",
          "text": [
            "2 3\n"
          ]
        }
      ],
      "source": [
        "#https://codeforces.com/problemset/problem/1679/A\n",
        "n = 12\n",
        "min = -1\n",
        "max = -1\n",
        "\n",
        "if n%6 == 0 or n%6 == 4:\n",
        "  min = n//6\n",
        "  if n%6 == 4:\n",
        "    min = min + 1\n",
        "\n",
        "if n == 4:\n",
        "  min = 1\n",
        "  max = 1\n",
        "\n",
        "if n == 8:\n",
        "  min = 2\n",
        "  max = 2\n",
        "\n",
        "if n%6 == 0 or n%6 == 4:\n",
        "  max =n//4\n",
        "\n",
        "if min == -1 or max == -1:\n",
        "  print(-1)\n",
        "else:\n",
        "  print(min,max)\n"
      ]
    }
  ]
}