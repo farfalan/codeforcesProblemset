{
  "nbformat": 4,
  "nbformat_minor": 0,
  "metadata": {
    "colab": {
      "provenance": [],
      "authorship_tag": "ABX9TyMlUvtBAvVjXLJ0gthHsmWm",
      "include_colab_link": true
    },
    "kernelspec": {
      "name": "python3",
      "display_name": "Python 3"
    },
    "language_info": {
      "name": "python"
    }
  },
  "cells": [
    {
      "cell_type": "markdown",
      "metadata": {
        "id": "view-in-github",
        "colab_type": "text"
      },
      "source": [
        "<a href=\"https://colab.research.google.com/github/farfalan/codeforcesProblemset/blob/main/Matrix.ipynb\" target=\"_parent\"><img src=\"https://colab.research.google.com/assets/colab-badge.svg\" alt=\"Open In Colab\"/></a>"
      ]
    },
    {
      "cell_type": "code",
      "execution_count": 39,
      "metadata": {
        "colab": {
          "base_uri": "https://localhost:8080/"
        },
        "id": "D3VoWOipsdHe",
        "outputId": "a1d68fdc-d479-4793-a241-4b64c1107da0"
      },
      "outputs": [
        {
          "output_type": "stream",
          "name": "stdout",
          "text": [
            "The index of element 1 is: [(4, 4)]\n",
            "[[0. 0. 0. 0. 0.]\n",
            " [0. 0. 0. 0. 0.]\n",
            " [0. 0. 0. 0. 0.]\n",
            " [0. 0. 0. 0. 0.]\n",
            " [0. 0. 0. 0. 1.]]\n",
            "[4]\n"
          ]
        }
      ],
      "source": [
        "\n",
        "import numpy as np\n",
        "\n",
        "# Create a 5x5 matrix filled with zeros\n",
        "matrix = np.zeros((5, 5))\n",
        "\n",
        "# Set a single element to 1 (let's choose the center)\n",
        "matrix[4, 4] = 1\n",
        "#Element to find\n",
        "element = 1\n",
        "\n",
        "# Finding the index of the element\n",
        "result = np.where(matrix == element)\n",
        "\n",
        "# Converting the result to a list of tuples\n",
        "indices = list(zip(result[0], result[1]))\n",
        "\n",
        "print(f\"The index of element {element} is: {indices}\")\n",
        "print(matrix)\n",
        "Y= abs(3-(result[0]+1))+ abs(3-(result[1]+1))\n",
        "print(Y)"
      ]
    }
  ]
}